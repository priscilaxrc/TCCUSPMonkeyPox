{
  "nbformat": 4,
  "nbformat_minor": 0,
  "metadata": {
    "colab": {
      "provenance": [],
      "authorship_tag": "ABX9TyPF7GfmQFyXlbCPsKhYAcY5",
      "include_colab_link": true
    },
    "kernelspec": {
      "name": "python3",
      "display_name": "Python 3"
    },
    "language_info": {
      "name": "python"
    }
  },
  "cells": [
    {
      "cell_type": "markdown",
      "metadata": {
        "id": "view-in-github",
        "colab_type": "text"
      },
      "source": [
        "<a href=\"https://colab.research.google.com/github/priscilaxrc/TCCUSPMonkeyPox/blob/main/USP_21_05.ipynb\" target=\"_parent\"><img src=\"https://colab.research.google.com/assets/colab-badge.svg\" alt=\"Open In Colab\"/></a>"
      ]
    },
    {
      "cell_type": "markdown",
      "source": [
        "# Trabalho TCC USP"
      ],
      "metadata": {
        "id": "N4t2EEe-moXZ"
      }
    },
    {
      "cell_type": "code",
      "execution_count": 1,
      "metadata": {
        "colab": {
          "base_uri": "https://localhost:8080/"
        },
        "id": "wlYY2aQUmbBz",
        "outputId": "b09da388-c5e5-4894-b605-df2916b877fe"
      },
      "outputs": [
        {
          "output_type": "stream",
          "name": "stdout",
          "text": [
            "Mounted at /content/drive\n"
          ]
        }
      ],
      "source": [
        "from google.colab import drive\n",
        "drive.mount('/content/drive')"
      ]
    },
    {
      "cell_type": "code",
      "source": [
        "!pip3 install -U git+https://github.com/PYFTS/pyFTS\n",
        "#!pip3 install -U pyFTS\n",
        "!pip3 install SimpSOM\n",
        "!pip install dispy\n",
        "#!pip install matplotlib==3.1.3\n",
        "!pip install matplotlib==3.1.1"
      ],
      "metadata": {
        "colab": {
          "base_uri": "https://localhost:8080/",
          "height": 1000
        },
        "id": "L63vK0rcmr72",
        "outputId": "b36b2468-75b7-429e-9939-bf423c9801d9"
      },
      "execution_count": 2,
      "outputs": [
        {
          "output_type": "stream",
          "name": "stdout",
          "text": [
            "Looking in indexes: https://pypi.org/simple, https://us-python.pkg.dev/colab-wheels/public/simple/\n",
            "Collecting git+https://github.com/PYFTS/pyFTS\n",
            "  Cloning https://github.com/PYFTS/pyFTS to /tmp/pip-req-build-48jff9b4\n",
            "  Running command git clone --filter=blob:none --quiet https://github.com/PYFTS/pyFTS /tmp/pip-req-build-48jff9b4\n",
            "  Resolved https://github.com/PYFTS/pyFTS to commit 4c77ecc73fa0888132ac3996ca7e1f519dcf2fc8\n",
            "  Preparing metadata (setup.py) ... \u001b[?25l\u001b[?25hdone\n",
            "Requirement already satisfied: matplotlib in /usr/local/lib/python3.10/dist-packages (from pyFTS==1.7) (3.7.1)\n",
            "Requirement already satisfied: numpy in /usr/local/lib/python3.10/dist-packages (from pyFTS==1.7) (1.22.4)\n",
            "Requirement already satisfied: pandas in /usr/local/lib/python3.10/dist-packages (from pyFTS==1.7) (1.5.3)\n",
            "Requirement already satisfied: contourpy>=1.0.1 in /usr/local/lib/python3.10/dist-packages (from matplotlib->pyFTS==1.7) (1.0.7)\n",
            "Requirement already satisfied: cycler>=0.10 in /usr/local/lib/python3.10/dist-packages (from matplotlib->pyFTS==1.7) (0.11.0)\n",
            "Requirement already satisfied: fonttools>=4.22.0 in /usr/local/lib/python3.10/dist-packages (from matplotlib->pyFTS==1.7) (4.39.3)\n",
            "Requirement already satisfied: kiwisolver>=1.0.1 in /usr/local/lib/python3.10/dist-packages (from matplotlib->pyFTS==1.7) (1.4.4)\n",
            "Requirement already satisfied: packaging>=20.0 in /usr/local/lib/python3.10/dist-packages (from matplotlib->pyFTS==1.7) (23.1)\n",
            "Requirement already satisfied: pillow>=6.2.0 in /usr/local/lib/python3.10/dist-packages (from matplotlib->pyFTS==1.7) (8.4.0)\n",
            "Requirement already satisfied: pyparsing>=2.3.1 in /usr/local/lib/python3.10/dist-packages (from matplotlib->pyFTS==1.7) (3.0.9)\n",
            "Requirement already satisfied: python-dateutil>=2.7 in /usr/local/lib/python3.10/dist-packages (from matplotlib->pyFTS==1.7) (2.8.2)\n",
            "Requirement already satisfied: pytz>=2020.1 in /usr/local/lib/python3.10/dist-packages (from pandas->pyFTS==1.7) (2022.7.1)\n",
            "Requirement already satisfied: six>=1.5 in /usr/local/lib/python3.10/dist-packages (from python-dateutil>=2.7->matplotlib->pyFTS==1.7) (1.16.0)\n",
            "Building wheels for collected packages: pyFTS\n",
            "  Building wheel for pyFTS (setup.py) ... \u001b[?25l\u001b[?25hdone\n",
            "  Created wheel for pyFTS: filename=pyFTS-1.7-py3-none-any.whl size=217871 sha256=d3977d7c39296984e155d20bc8b8e2337930abe763c351c0a84d4bc1d6add6bf\n",
            "  Stored in directory: /tmp/pip-ephem-wheel-cache-93z5jh7i/wheels/7f/25/75/dd8f713bf48592da71e0441c7abdc1f5aa4d9645a6b7ee99d4\n",
            "Successfully built pyFTS\n",
            "Installing collected packages: pyFTS\n",
            "Successfully installed pyFTS-1.7\n",
            "Looking in indexes: https://pypi.org/simple, https://us-python.pkg.dev/colab-wheels/public/simple/\n",
            "Collecting SimpSOM\n",
            "  Downloading simpsom-2.0.2-py3-none-any.whl (25 kB)\n",
            "Requirement already satisfied: numpy>=1.19.5 in /usr/local/lib/python3.10/dist-packages (from SimpSOM) (1.22.4)\n",
            "Requirement already satisfied: scikit-learn>=0.22.2.post1 in /usr/local/lib/python3.10/dist-packages (from SimpSOM) (1.2.2)\n",
            "Requirement already satisfied: matplotlib>=3.3.3 in /usr/local/lib/python3.10/dist-packages (from SimpSOM) (3.7.1)\n",
            "Requirement already satisfied: contourpy>=1.0.1 in /usr/local/lib/python3.10/dist-packages (from matplotlib>=3.3.3->SimpSOM) (1.0.7)\n",
            "Requirement already satisfied: cycler>=0.10 in /usr/local/lib/python3.10/dist-packages (from matplotlib>=3.3.3->SimpSOM) (0.11.0)\n",
            "Requirement already satisfied: fonttools>=4.22.0 in /usr/local/lib/python3.10/dist-packages (from matplotlib>=3.3.3->SimpSOM) (4.39.3)\n",
            "Requirement already satisfied: kiwisolver>=1.0.1 in /usr/local/lib/python3.10/dist-packages (from matplotlib>=3.3.3->SimpSOM) (1.4.4)\n",
            "Requirement already satisfied: packaging>=20.0 in /usr/local/lib/python3.10/dist-packages (from matplotlib>=3.3.3->SimpSOM) (23.1)\n",
            "Requirement already satisfied: pillow>=6.2.0 in /usr/local/lib/python3.10/dist-packages (from matplotlib>=3.3.3->SimpSOM) (8.4.0)\n",
            "Requirement already satisfied: pyparsing>=2.3.1 in /usr/local/lib/python3.10/dist-packages (from matplotlib>=3.3.3->SimpSOM) (3.0.9)\n",
            "Requirement already satisfied: python-dateutil>=2.7 in /usr/local/lib/python3.10/dist-packages (from matplotlib>=3.3.3->SimpSOM) (2.8.2)\n",
            "Requirement already satisfied: scipy>=1.3.2 in /usr/local/lib/python3.10/dist-packages (from scikit-learn>=0.22.2.post1->SimpSOM) (1.10.1)\n",
            "Requirement already satisfied: joblib>=1.1.1 in /usr/local/lib/python3.10/dist-packages (from scikit-learn>=0.22.2.post1->SimpSOM) (1.2.0)\n",
            "Requirement already satisfied: threadpoolctl>=2.0.0 in /usr/local/lib/python3.10/dist-packages (from scikit-learn>=0.22.2.post1->SimpSOM) (3.1.0)\n",
            "Requirement already satisfied: six>=1.5 in /usr/local/lib/python3.10/dist-packages (from python-dateutil>=2.7->matplotlib>=3.3.3->SimpSOM) (1.16.0)\n",
            "Installing collected packages: SimpSOM\n",
            "Successfully installed SimpSOM-2.0.2\n",
            "Looking in indexes: https://pypi.org/simple, https://us-python.pkg.dev/colab-wheels/public/simple/\n",
            "Collecting dispy\n",
            "  Downloading dispy-4.15.2.tar.gz (427 kB)\n",
            "\u001b[2K     \u001b[90m━━━━━━━━━━━━━━━━━━━━━━━━━━━━━━━━━━━━━━\u001b[0m \u001b[32m427.9/427.9 kB\u001b[0m \u001b[31m14.2 MB/s\u001b[0m eta \u001b[36m0:00:00\u001b[0m\n",
            "\u001b[?25h  Installing build dependencies ... \u001b[?25l\u001b[?25hdone\n",
            "  Getting requirements to build wheel ... \u001b[?25l\u001b[?25hdone\n",
            "  Installing backend dependencies ... \u001b[?25l\u001b[?25hdone\n",
            "  Preparing metadata (pyproject.toml) ... \u001b[?25l\u001b[?25hdone\n",
            "Collecting pycos>=4.12.2 (from dispy)\n",
            "  Using cached pycos-4.12.2-py3-none-any.whl\n",
            "Building wheels for collected packages: dispy\n",
            "  Building wheel for dispy (pyproject.toml) ... \u001b[?25l\u001b[?25hdone\n",
            "  Created wheel for dispy: filename=dispy-4.15.2-py3-none-any.whl size=213197 sha256=ff8ea2c71903cde27061897120c2ace5a58366955cb24639d7172d581217f5bf\n",
            "  Stored in directory: /root/.cache/pip/wheels/8d/4a/e1/3656878e46d160470f92efc4c0b3c29380fc415ddd32032b5f\n",
            "Successfully built dispy\n",
            "Installing collected packages: pycos, dispy\n",
            "Successfully installed dispy-4.15.2 pycos-4.12.2\n",
            "Looking in indexes: https://pypi.org/simple, https://us-python.pkg.dev/colab-wheels/public/simple/\n",
            "Collecting matplotlib==3.1.1\n",
            "  Downloading matplotlib-3.1.1.tar.gz (37.8 MB)\n",
            "\u001b[2K     \u001b[90m━━━━━━━━━━━━━━━━━━━━━━━━━━━━━━━━━━━━━━━━\u001b[0m \u001b[32m37.8/37.8 MB\u001b[0m \u001b[31m29.0 MB/s\u001b[0m eta \u001b[36m0:00:00\u001b[0m\n",
            "\u001b[?25h  Preparing metadata (setup.py) ... \u001b[?25l\u001b[?25hdone\n",
            "Requirement already satisfied: cycler>=0.10 in /usr/local/lib/python3.10/dist-packages (from matplotlib==3.1.1) (0.11.0)\n",
            "Requirement already satisfied: kiwisolver>=1.0.1 in /usr/local/lib/python3.10/dist-packages (from matplotlib==3.1.1) (1.4.4)\n",
            "Requirement already satisfied: pyparsing!=2.0.4,!=2.1.2,!=2.1.6,>=2.0.1 in /usr/local/lib/python3.10/dist-packages (from matplotlib==3.1.1) (3.0.9)\n",
            "Requirement already satisfied: python-dateutil>=2.1 in /usr/local/lib/python3.10/dist-packages (from matplotlib==3.1.1) (2.8.2)\n",
            "Requirement already satisfied: numpy>=1.11 in /usr/local/lib/python3.10/dist-packages (from matplotlib==3.1.1) (1.22.4)\n",
            "Requirement already satisfied: six>=1.5 in /usr/local/lib/python3.10/dist-packages (from python-dateutil>=2.1->matplotlib==3.1.1) (1.16.0)\n",
            "Building wheels for collected packages: matplotlib\n",
            "  Building wheel for matplotlib (setup.py) ... \u001b[?25l\u001b[?25hdone\n",
            "  Created wheel for matplotlib: filename=matplotlib-3.1.1-cp310-cp310-linux_x86_64.whl size=12066197 sha256=ba7e204d5786cc90cd7c7e00eeec9809d018b80344e9a13e1074fc2306f0c661\n",
            "  Stored in directory: /root/.cache/pip/wheels/89/4a/32/e229c4da4afeeb3ff4eb2f90bf9d6a07c22ccd96f261130d30\n",
            "Successfully built matplotlib\n",
            "Installing collected packages: matplotlib\n",
            "  Attempting uninstall: matplotlib\n",
            "    Found existing installation: matplotlib 3.7.1\n",
            "    Uninstalling matplotlib-3.7.1:\n",
            "      Successfully uninstalled matplotlib-3.7.1\n",
            "\u001b[31mERROR: pip's dependency resolver does not currently take into account all the packages that are installed. This behaviour is the source of the following dependency conflicts.\n",
            "arviz 0.15.1 requires matplotlib>=3.2, but you have matplotlib 3.1.1 which is incompatible.\n",
            "mizani 0.8.1 requires matplotlib>=3.5.0, but you have matplotlib 3.1.1 which is incompatible.\n",
            "plotnine 0.10.1 requires matplotlib>=3.5.0, but you have matplotlib 3.1.1 which is incompatible.\n",
            "simpsom 2.0.2 requires matplotlib>=3.3.3, but you have matplotlib 3.1.1 which is incompatible.\u001b[0m\u001b[31m\n",
            "\u001b[0mSuccessfully installed matplotlib-3.1.1\n"
          ]
        },
        {
          "output_type": "display_data",
          "data": {
            "application/vnd.colab-display-data+json": {
              "pip_warning": {
                "packages": [
                  "matplotlib",
                  "mpl_toolkits"
                ]
              }
            }
          },
          "metadata": {}
        }
      ]
    },
    {
      "cell_type": "code",
      "source": [
        "import warnings\n",
        "warnings.filterwarnings('ignore')\n",
        "\n",
        "import numpy as np\n",
        "import pandas as pd\n",
        "import matplotlib as plt\n",
        "import matplotlib.pyplot as plt\n",
        "from pyFTS.models import hofts\n",
        "from pyFTS.partitioners import Grid\n",
        "from pyFTS.benchmarks import Measures"
      ],
      "metadata": {
        "id": "YvASjPTVmyMm"
      },
      "execution_count": 3,
      "outputs": []
    },
    {
      "cell_type": "code",
      "source": [
        "from pyFTS.data import TAIEX, Malaysia, sunspots, artificial\n",
        "from statsmodels.tsa.stattools import acf, pacf\n",
        "\n",
        "datasets = {}\n",
        "\n",
        "#dff = pd.read_excel('../content/drive/MyDrive/DadosPWFTS/DadosFalha.xlsx')\n",
        "dff = pd.read_csv('../content/drive/MyDrive/TCCPriscila/Teste_Daily_Country_Wise_Confirmed_Cases.csv', ';')\n",
        "\n",
        "#dfn = pd.read_excel('../content/drive/MyDrive/DadosPWFTS/DadosNormais.xlsx')\n",
        "#dfn = pd.read_csv('../content/drive/MyDrive/TCCPriscila/Teste_Daily_Country_Wise_Confirmed_Cases.csv', ';')\n",
        "\n",
        "dados = dff[0:112] \n",
        "#dados_teste_Falha = dff[0:112]"
      ],
      "metadata": {
        "id": "jLw2y-ZJm1fO"
      },
      "execution_count": 4,
      "outputs": []
    },
    {
      "cell_type": "code",
      "source": [
        "print(dados)#print dados\n",
        "dados2=dados.T"
      ],
      "metadata": {
        "colab": {
          "base_uri": "https://localhost:8080/"
        },
        "id": "hvKbKATXm4d-",
        "outputId": "b84a423c-76d4-4e72-d6ff-4bf8cd1bacdb"
      },
      "execution_count": 7,
      "outputs": [
        {
          "output_type": "stream",
          "name": "stdout",
          "text": [
            "                      Country  23/05/2022  24/05/2022  25/05/2022  26/05/2022  \\\n",
            "0                     Nigeria           0           0           0           0   \n",
            "1                    Cameroon           0           0           0           0   \n",
            "2    Central African Republic           0           0           0           0   \n",
            "3           Republic of Congo           0           0           0           0   \n",
            "4                     England          36          14           7          24   \n",
            "..                        ...         ...         ...         ...         ...   \n",
            "107                    Jordan           0           0           0           0   \n",
            "108                      Guam           0           0           0           0   \n",
            "109                   Ukraine           0           0           0           0   \n",
            "110                   Bahrain           0           0           0           0   \n",
            "111                     China           0           0           0           0   \n",
            "\n",
            "     27/05/2022  28/05/2022  29/05/2022  30/05/2022  31/05/2022  ...  \\\n",
            "0             0           0           6           0           0  ...   \n",
            "1             0           0           0           0           0  ...   \n",
            "2             0           0           0           0           0  ...   \n",
            "3             0           0           0           0           0  ...   \n",
            "4             0           0           0          71          11  ...   \n",
            "..          ...         ...         ...         ...         ...  ...   \n",
            "107           0           0           0           0           0  ...   \n",
            "108           0           0           0           0           0  ...   \n",
            "109           0           0           0           0           0  ...   \n",
            "110           0           0           0           0           0  ...   \n",
            "111           0           0           0           0           0  ...   \n",
            "\n",
            "     13/09/2022  14/09/2022  15/09/2022  16/09/2022  17/09/2022  18/09/2022  \\\n",
            "0             0           0           0           0           0           0   \n",
            "1             0           0           0           0           0           0   \n",
            "2             0           0           0           0           0           0   \n",
            "3             0           0           0           0           0           0   \n",
            "4             0           0           0           0           0           0   \n",
            "..          ...         ...         ...         ...         ...         ...   \n",
            "107           0           0           0           0           0           0   \n",
            "108           0           0           0           0           0           0   \n",
            "109           0           0           1           0           0           0   \n",
            "110           0           0           0           1           0           0   \n",
            "111           0           0           0           1           0           0   \n",
            "\n",
            "     19/09/2022  20/09/2022  21/09/2022  22/09/2022  \n",
            "0             0           0           0           0  \n",
            "1             0           0           0           0  \n",
            "2             0           0           0           0  \n",
            "3             0           0           0           0  \n",
            "4             0          29           0           0  \n",
            "..          ...         ...         ...         ...  \n",
            "107           0           0           0           0  \n",
            "108           0           0           0           0  \n",
            "109           1           0           0           0  \n",
            "110           0           0           0           0  \n",
            "111           0           0           0           0  \n",
            "\n",
            "[112 rows x 124 columns]\n"
          ]
        }
      ]
    },
    {
      "cell_type": "code",
      "source": [
        "teste1 = dados2[8]\n",
        "teste11 = teste1[1:]\n",
        "teste2 = dados2[7]\n",
        "teste22 = teste2[1:]\n",
        "teste3 = dados2[4]\n",
        "teste33 = teste3[1:]\n",
        "teste4 = dados2[12]\n",
        "teste44 = teste4[1:]\n",
        "teste5 = dados2[38]\n",
        "teste55 = teste4[1:]"
      ],
      "metadata": {
        "id": "IyFRkw2vnJAW"
      },
      "execution_count": 8,
      "outputs": []
    },
    {
      "cell_type": "code",
      "source": [
        "#Dados\n",
        "from statsmodels.tsa.stattools import acf, pacf\n",
        "\n",
        "datasets1 = {}\n",
        "\n",
        "datasets1['EUA'] = teste11\n",
        "datasets1['Spain'] = teste22\n",
        "datasets1['UK'] = teste33\n",
        "datasets1['France'] = teste44\n",
        "datasets1['Brazil'] = teste55\n",
        "\n",
        "print(datasets1)"
      ],
      "metadata": {
        "colab": {
          "base_uri": "https://localhost:8080/"
        },
        "id": "UUhi-F1KnMPH",
        "outputId": "9d6b10f7-4075-4a78-9959-7911455d8ffb"
      },
      "execution_count": 9,
      "outputs": [
        {
          "output_type": "stream",
          "name": "stdout",
          "text": [
            "{'EUA': 23/05/2022      0\n",
            "24/05/2022      2\n",
            "25/05/2022      2\n",
            "26/05/2022      5\n",
            "27/05/2022      4\n",
            "             ... \n",
            "18/09/2022      0\n",
            "19/09/2022    391\n",
            "20/09/2022    311\n",
            "21/09/2022    157\n",
            "22/09/2022    205\n",
            "Name: 8, Length: 123, dtype: object, 'Spain': 23/05/2022     1\n",
            "24/05/2022     4\n",
            "25/05/2022     8\n",
            "26/05/2022    25\n",
            "27/05/2022    21\n",
            "              ..\n",
            "18/09/2022     0\n",
            "19/09/2022     0\n",
            "20/09/2022    46\n",
            "21/09/2022     0\n",
            "22/09/2022     0\n",
            "Name: 7, Length: 123, dtype: object, 'UK': 23/05/2022    36\n",
            "24/05/2022    14\n",
            "25/05/2022     7\n",
            "26/05/2022    24\n",
            "27/05/2022     0\n",
            "              ..\n",
            "18/09/2022     0\n",
            "19/09/2022     0\n",
            "20/09/2022    29\n",
            "21/09/2022     0\n",
            "22/09/2022     0\n",
            "Name: 4, Length: 123, dtype: object, 'France': 23/05/2022    10\n",
            "24/05/2022     0\n",
            "25/05/2022     0\n",
            "26/05/2022    11\n",
            "27/05/2022     0\n",
            "              ..\n",
            "18/09/2022     0\n",
            "19/09/2022     0\n",
            "20/09/2022    18\n",
            "21/09/2022     8\n",
            "22/09/2022     0\n",
            "Name: 12, Length: 123, dtype: object, 'Brazil': 23/05/2022    10\n",
            "24/05/2022     0\n",
            "25/05/2022     0\n",
            "26/05/2022    11\n",
            "27/05/2022     0\n",
            "              ..\n",
            "18/09/2022     0\n",
            "19/09/2022     0\n",
            "20/09/2022    18\n",
            "21/09/2022     8\n",
            "22/09/2022     0\n",
            "Name: 12, Length: 123, dtype: object}\n"
          ]
        }
      ]
    }
  ]
}