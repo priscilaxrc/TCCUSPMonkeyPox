{
  "nbformat": 4,
  "nbformat_minor": 0,
  "metadata": {
    "colab": {
      "provenance": []
    },
    "kernelspec": {
      "name": "python3",
      "display_name": "Python 3"
    },
    "language_info": {
      "name": "python"
    }
  },
  "cells": [
    {
      "cell_type": "markdown",
      "source": [
        "###Teste"
      ],
      "metadata": {
        "id": "hmP5gYnS9eEv"
      }
    },
    {
      "cell_type": "code",
      "source": [
        "from google.colab import drive\n",
        "drive.mount('/content/drive')"
      ],
      "metadata": {
        "id": "qS7HP6MhLfxz"
      },
      "execution_count": null,
      "outputs": []
    },
    {
      "cell_type": "code",
      "execution_count": null,
      "metadata": {
        "id": "XuF1baYNIdv9"
      },
      "outputs": [],
      "source": [
        "!pip3 install -U git+https://github.com/PYFTS/pyFTS\n",
        "#!pip3 install -U pyFTS\n",
        "!pip3 install SimpSOM\n",
        "!pip install dispy\n",
        "#!pip install matplotlib==3.1.3\n",
        "!pip install matplotlib==3.1.1"
      ]
    },
    {
      "cell_type": "code",
      "source": [
        "import warnings\n",
        "warnings.filterwarnings('ignore')\n",
        "\n",
        "import numpy as np\n",
        "import pandas as pd\n",
        "import matplotlib as plt\n",
        "import matplotlib.pyplot as plt\n",
        "from pyFTS.models import hofts\n",
        "from pyFTS.partitioners import Grid\n",
        "from pyFTS.benchmarks import Measures"
      ],
      "metadata": {
        "id": "W2oT-jKlLgvU"
      },
      "execution_count": null,
      "outputs": []
    },
    {
      "cell_type": "code",
      "source": [
        "from pyFTS.data import TAIEX, Malaysia, sunspots, artificial\n",
        "from statsmodels.tsa.stattools import acf, pacf\n",
        "\n",
        "datasets = {}\n",
        "\n",
        "#dff = pd.read_excel('../content/drive/MyDrive/DadosPWFTS/DadosFalha.xlsx')\n",
        "dff = pd.read_csv('../content/drive/MyDrive/TCCPriscila/2.1.3 By WHO Region (cases).csv')\n",
        "\n",
        "#dfn = pd.read_excel('../content/drive/MyDrive/DadosPWFTS/DadosNormais.xlsx')\n",
        "dfn = pd.read_csv('../content/drive/MyDrive/TCCPriscila/2.1.4 By WHO Region (deaths).csv')\n",
        "\n",
        "dados_treino_Falha = dff[0:200] \n",
        "dados_teste_Falha = dff[200:221]\n",
        "\n",
        "dados_treino_Normal = dfn[0:200] \n",
        "dados_teste_Normal = dfn[200:221]"
      ],
      "metadata": {
        "id": "EQuV_eflLoBj"
      },
      "execution_count": null,
      "outputs": []
    },
    {
      "cell_type": "code",
      "source": [
        "print(dados_treino_Falha)#print para validar os dados lidos"
      ],
      "metadata": {
        "id": "__iWh1nqL4JH"
      },
      "execution_count": null,
      "outputs": []
    },
    {
      "cell_type": "code",
      "source": [
        "print(dados_treino_Normal) #printparavalidar os dados sem falhas"
      ],
      "metadata": {
        "id": "p6PT8Sh9L4_U"
      },
      "execution_count": null,
      "outputs": []
    },
    {
      "cell_type": "code",
      "source": [
        "print(dados_teste_Falha)"
      ],
      "metadata": {
        "id": "6LbCHqmvL9N8"
      },
      "execution_count": null,
      "outputs": []
    },
    {
      "cell_type": "markdown",
      "source": [
        "###Analisando as Séries Temporais"
      ],
      "metadata": {
        "id": "yPUYhrGfMKUf"
      }
    },
    {
      "cell_type": "code",
      "source": [
        "#Dados com Falhas\n",
        "\n",
        "from pyFTS.data import TAIEX, Malaysia, sunspots, artificial\n",
        "from statsmodels.tsa.stattools import acf, pacf\n",
        "\n",
        "datasets1 = {}\n",
        "\n",
        "datasets1['LIT'] = dados_treino_Falha.get('new_confirmed_cases')\n",
        "datasets1['SpeedActual'] = dados_treino_Falha.get('perc_change_conf_cases')\n",
        "#datasets1['BeltLoad'] = dados_treino_Falha.get('WIT_1085KS_2300_BeltLoad')\n",
        "#datasets1['Rate'] = dados_treino_Falha.get('WIT_1085KS_2300_Rate')\n",
        "\n",
        "\n",
        "fig1, ax = plt.subplots(nrows=1, ncols=2, figsize=[20,10])\n",
        "\n",
        "for ct, (key, data) in enumerate(datasets1.items()): \n",
        "  _lags = np.arange(0,21)\n",
        "  _acf = acf(data,nlags=21)\n",
        "  _pacf = pacf(data,nlags=21)\n",
        "  \n",
        "  ax[0].set_title(\"IO\")\n",
        "  ax[0].plot(data)\n",
        "  \n",
        "  ax[1].set_title(\"OI\")\n",
        "  ax[1].plot(data[:21])\n",
        "  \n",
        "  #ax[2][ct].set_title(\"ACF {} - 100 lags\".format(key))\n",
        "  #ax[2][ct].plot(_lags, _acf, \"o\")\n",
        "  #ax[2][ct].vlines(_lags,[0],_acf)\n",
        "  #ax[2][ct].axhline(y=0, color='black')\n",
        "  \n",
        " # ax[3][ct].set_title(\"PACF {} - 100 lags\".format(key))\n",
        " # ax[3][ct].plot(_lags, _pacf, \"o\")\n",
        " # ax[3][ct].vlines(_lags,[0],_pacf)\n",
        " # ax[3][ct].axhline(y=0, color='black')\n",
        "\n",
        "plt.tight_layout()"
      ],
      "metadata": {
        "id": "mytwYKpTMI70"
      },
      "execution_count": null,
      "outputs": []
    }
  ]
}